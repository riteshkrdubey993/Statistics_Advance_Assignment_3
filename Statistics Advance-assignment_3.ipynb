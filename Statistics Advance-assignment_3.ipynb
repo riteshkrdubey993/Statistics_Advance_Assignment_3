{
 "cells": [
  {
   "cell_type": "markdown",
   "id": "223207aa-9d82-435e-85ec-93e148059c89",
   "metadata": {},
   "source": [
    "## Q1: What is Estimation Statistics? Explain point estimate and interval estimate."
   ]
  },
  {
   "cell_type": "markdown",
   "id": "ea714ad0-5dfc-495f-8348-a30a96f0f877",
   "metadata": {},
   "source": [
    "Estimation Statistics involves using sample data to estimate or infer population parameters. Estimation is a fundamental concept in statistics, as it allows us to make conclusions about a population based on information gathered from a smaller subset of that population (a sample).\n",
    "\n",
    "There are two main types of estimation: point estimate and interval estimate.\n",
    "\n",
    "    Point Estimate: A point estimate is a single value that's used to approximate a population parameter. This single value is calculated from the sample data and provides a \"best guess\" for the unknown population parameter. For example, if you want to estimate the average height of all students in a university, you might take the average height of a sample of students and use that as your point estimate for the entire population's average height.\n",
    "\n",
    "    Interval Estimate (Confidence Interval): An interval estimate, also known as a confidence interval, provides a range of values within which the true population parameter is likely to fall. This range is often accompanied by a confidence level that indicates the likelihood of the parameter falling within the interval. Confidence intervals capture the uncertainty inherent in estimation due to sampling variability."
   ]
  },
  {
   "cell_type": "markdown",
   "id": "203bcfaa-7f57-4d70-a579-17cdc61c45ad",
   "metadata": {},
   "source": [
    "## Q2. Write a Python function to estimate the population mean using a sample mean and standard deviation."
   ]
  },
  {
   "cell_type": "code",
   "execution_count": 1,
   "id": "984ef5eb-07d8-4c1c-8bf7-b137718145f8",
   "metadata": {},
   "outputs": [
    {
     "name": "stdout",
     "output_type": "stream",
     "text": [
      "Estimated mean:  20\n",
      "Estimated std:  0.1414213562373095\n"
     ]
    }
   ],
   "source": [
    "def estimate(sample_mean, sample_std, sample_size):\n",
    "    \n",
    "    #Estimate the population mean using a sample mean and standard deviation.\n",
    "    \n",
    "    #Parameters:\n",
    "    #sample_mean (float): The mean of the sample.\n",
    "    #sample_std (float): The standard deviation of the sample.\n",
    "    #sample_size (int): The size of the sample.\n",
    "        \n",
    "    #Returns:\n",
    "        #float: estimated_mean\n",
    "        \n",
    "        estimated_mean = sample_mean\n",
    "        estimated_std = sample_std/(sample_size)**0.5\n",
    "        print('Estimated mean: ',estimated_mean)\n",
    "        print('Estimated std: ',estimated_std)\n",
    "        \n",
    "        \n",
    "sample_mean = 20\n",
    "sample_std = 1\n",
    "sample_size = 50\n",
    "\n",
    "\n",
    "estimate(sample_mean, sample_std, sample_size)\n"
   ]
  },
  {
   "cell_type": "markdown",
   "id": "b41d9f48-fa17-4ed6-9056-143a0ff91f72",
   "metadata": {},
   "source": [
    "## Q3: What is Hypothesis testing? Why is it used? State the importance of Hypothesis testing."
   ]
  },
  {
   "cell_type": "markdown",
   "id": "a0777459-f598-43d3-a090-ecd27d316dec",
   "metadata": {},
   "source": [
    "Hypothesis testing is a statistical method used to make inferences about a population based on a sample of data. It involves formulating two competing hypotheses, the null hypothesis (H0) and the alternative hypothesis (Ha), and then using statistical techniques to determine whether there is enough evidence to reject the null hypothesis in favor of the alternative hypothesis.\n",
    "\n",
    "The null hypothesis (H0) typically represents the status quo or the absence of an effect, while the alternative hypothesis (Ha) represents the presence of an effect or a difference. Hypothesis testing helps us evaluate the validity of assumptions and claims by analyzing data in a structured and objective manner\n",
    "\n",
    "Importance of Hypothesis Testing:\n",
    "\n",
    "    Scientific Rigor: Hypothesis testing provides a systematic and rigorous framework for evaluating hypotheses in scientific research. It helps researchers draw valid conclusions from data and avoid making decisions based solely on intuition or anecdotal evidence.\n",
    "\n",
    "    Decision Making: Hypothesis testing helps in making informed decisions by providing a structured approach to evaluate competing hypotheses. It allows us to objectively assess the evidence in favor of one hypothesis over another.\n",
    "\n",
    "    Inference about Populations: Hypothesis testing allows us to make inferences about population parameters based on sample data. For example, we can test whether a new drug has a significant effect on patient outcomes compared to a placebo.\n",
    "\n",
    "    Quality Control and Process Improvement: Hypothesis testing is often used in quality control and process improvement to determine whether changes in a process or system have led to significant improvements. It helps businesses make data-driven decisions to enhance efficiency and reduce defects.\n",
    "\n",
    "    Policy and Decision Impact: Hypothesis testing plays a crucial role in policy-making and decision impact assessments. For example, policymakers might use hypothesis testing to assess the effectiveness of a policy change.\n",
    "\n",
    "    Science Validation: In fields like physics, astronomy, and biology, hypothesis testing is used to validate or refute scientific theories. It allows researchers to refine theories based on empirical evidence.\n",
    "\n",
    "    Risk Assessment: In finance and economics, hypothesis testing is used to assess financial models, evaluate investment strategies, and estimate market trends.\n",
    "    \n",
    "    Healthcare and Medicine: Hypothesis testing is crucial in clinical trials to assess the efficacy of new treatments or interventions."
   ]
  },
  {
   "cell_type": "markdown",
   "id": "e9682b8e-efd9-4341-b5b7-a9de4384d767",
   "metadata": {},
   "source": [
    "## |Q4. Create a hypothesis that states whether the average weight of male college students is greater than the average weight of female college students."
   ]
  },
  {
   "cell_type": "markdown",
   "id": "b520cb7b-0f86-49e3-9dac-cf1e3c46f3b1",
   "metadata": {},
   "source": [
    "Hypothesis:\n",
    "\n",
    "Null Hypothesis (H0): The average weight of male college students is equal to or less than the average weight of female college students.\n",
    "\n",
    "Alternative Hypothesis (Ha): The average weight of male college students is greater than the average weight of female college students."
   ]
  },
  {
   "cell_type": "markdown",
   "id": "43d54d1a-28dd-43bc-93af-6180770578a1",
   "metadata": {},
   "source": [
    "## Q5. Write a Python script to conduct a hypothesis test on the difference between two population means, given a sample from each population."
   ]
  },
  {
   "cell_type": "code",
   "execution_count": 2,
   "id": "e9db4626-313b-4f8d-8dad-0e56a92ef668",
   "metadata": {},
   "outputs": [
    {
     "name": "stdout",
     "output_type": "stream",
     "text": [
      "t_statistic: 218.77310952712614\n",
      "p_value: 0.0\n",
      "Reject the null hypothesis.\n"
     ]
    }
   ],
   "source": [
    "import numpy as np\n",
    "from scipy import stats\n",
    "\n",
    "male_weight = np.random.normal(loc = 65, scale = 1, size = 1000)\n",
    "female_weight = np.random.normal(loc = 55, scale = 1, size = 1000)\n",
    "alpha = 0.05\n",
    "\n",
    "# H0: Mean weight of male and female is equal.\n",
    "# H1: Mean weight of male and female is not equal.\n",
    "t_statistic, p_value = stats.ttest_ind(male_weight, female_weight, alternative = 'greater')\n",
    "\n",
    "print(f\"t_statistic: {t_statistic}\")\n",
    "print(f\"p_value: {p_value}\")\n",
    "                 \n",
    "if p_value < alpha:\n",
    "    print(\"Reject the null hypothesis.\")\n",
    "else:\n",
    "    print(\"Fail to reject the null hypothesis.\")"
   ]
  },
  {
   "cell_type": "markdown",
   "id": "e43539b5-d134-4a8f-be10-913cd17363c3",
   "metadata": {},
   "source": [
    "## Q6: What is a null and alternative hypothesis? Give some examples."
   ]
  },
  {
   "cell_type": "markdown",
   "id": "354069cd-46b7-400e-b26d-274242750df2",
   "metadata": {},
   "source": [
    "A null hypothesis (often denoted as \"H0\") is a statement that there is no effect, no difference, or no relationship between variables. It serves as a default assumption to be tested against. An alternative hypothesis (often denoted as \"Ha\" or \"H1\") is a statement that contradicts the null hypothesis, suggesting that there is a significant effect, difference, or relationship between variables.\n",
    "\n",
    "Here are some examples to illustrate null and alternative hypotheses:\n",
    "\n",
    "    Example 1: Coin Toss\n",
    "    Null Hypothesis (H0): The coin is fair and has an equal chance of landing heads or tails.\n",
    "    Alternative Hypothesis (Ha): The coin is not fair and does not have an equal chance of landing heads or tails.\n",
    "\n",
    "    Example 2: Drug Efficacy\n",
    "    Null Hypothesis (H0): The new drug has no effect on reducing blood pressure.\n",
    "    Alternative Hypothesis (Ha): The new drug does have an effect on reducing blood pressure.\n",
    "\n",
    "    Example 3: Online Advertisements\n",
    "    Null Hypothesis (H0): The click-through rate for an online advertisement is the same for two different designs.\n",
    "    Alternative Hypothesis (Ha): The click-through rate differs between the two different designs of online advertisements."
   ]
  },
  {
   "cell_type": "markdown",
   "id": "6d687778-04a9-476c-83e1-d9233844a518",
   "metadata": {},
   "source": [
    "## Q7: Write down the steps involved in hypothesis testing."
   ]
  },
  {
   "cell_type": "markdown",
   "id": "985c9b1f-0af7-4a9b-b300-3289c7ff7358",
   "metadata": {},
   "source": [
    "Hypothesis testing involves a structured process to assess whether the evidence supports rejecting the null hypothesis in favor of the alternative hypothesis. Here are the general steps involved in hypothesis testing:\n",
    "\n",
    "1. Formulate Hypotheses:\n",
    "\n",
    "   State the null hypothesis (H0): This represents the default assumption or no effect/difference.\n",
    "   State the alternative hypothesis (Ha): This presents the claim you want to test, suggesting an effect, difference, or relationship.\n",
    "\n",
    "2. Select Significance Level (Alpha):\n",
    "\n",
    "   Choose a significance level (α), typically denoted as 0.05 (5%) or 0.01 (1%). This value determines the threshold for considering evidence strong enough to reject the null hypothesis.\n",
    "   \n",
    "3. Collect and Prepare Data:\n",
    "   Gather relevant data through experiments, observations, surveys, or other means.\n",
    "   Organize and clean the data to ensure accuracy and reliability.\n",
    "   \n",
    "4. Choose a Test Statistic:\n",
    "\n",
    "   Depending on the nature of the data and the hypotheses, select an appropriate statistical test. Examples include t-tests, ANOVA, chi-square tests, correlation analysis, etc.\n",
    "   \n",
    "5. Calculate the Test Statistic:\n",
    "\n",
    "   Perform calculations using the collected data to compute the test statistic. The test statistic quantifies the difference or effect you're testing.\n",
    "   \n",
    "6. Determine the P-Value:\n",
    "\n",
    "   The p-value is the probability of obtaining a test statistic as extreme as the one calculated, assuming the null hypothesis is true.\n",
    "   If the p-value is less than or equal to the significance level (α), it suggests that the observed results are unlikely to have occurred under the null hypothesis.\n",
    "   \n",
    "7. Make a Decision:\n",
    "\n",
    "   If the p-value is less than or equal to α, you have strong evidence to reject the null hypothesis.\n",
    "   If the p-value is greater than α, you do not have sufficient evidence to reject the null  hypothesis.\n",
    "   \n",
    "8. Draw Conclusions:\n",
    "\n",
    "   If you reject the null hypothesis, you can conclude that there is evidence to support the alternative hypothesis.\n",
    "   If you do not reject the null hypothesis, you can only state that there is not enough evidence to support the alternative hypothesis. You don't conclude that the null hypothesis is proven true.\n",
    "   \n",
    "9. Consider Practical Significance:\n",
    "\n",
    "   Even if you reject the null hypothesis statistically, consider whether the effect or difference is practically meaningful.\n",
    "   \n",
    "10. Report Results:\n",
    "\n",
    "    Present the findings, including the test statistic, p-value, and the decision made based on the significance level.\n",
    "    Provide context and interpretations of the results in relation to the research question."
   ]
  },
  {
   "cell_type": "markdown",
   "id": "00931a15-c722-4fae-ab30-ecc2efafec32",
   "metadata": {},
   "source": [
    "## Q8. Define p-value and explain its significance in hypothesis testing."
   ]
  },
  {
   "cell_type": "markdown",
   "id": "566b0803-d2d8-466c-af4c-ff6a79346607",
   "metadata": {},
   "source": [
    "The p-value, or probability value, is a crucial concept in hypothesis testing that helps determine the strength of evidence against the null hypothesis. It quantifies the likelihood of observing a test statistic as extreme as, or more extreme than, the one calculated from the sample data, assuming that the null hypothesis is true.\n",
    "\n",
    "In other words, the p-value answers the question: \"If the null hypothesis were true, how likely is it to obtain the observed data or data more extreme than what we observed?\"\n",
    "\n",
    "Here's how to interpret the p-value and its significance in hypothesis testing:\n",
    "\n",
    "Small p-value (p ≤ α):\n",
    "\n",
    "1. If the p-value is small (usually less than or equal to the chosen significance level, α), it suggests that the observed data is unlikely to have occurred under the assumption of the null hypothesis.\n",
    "2. This provides evidence against the null hypothesis and indicates that you should consider rejecting it in favor of the alternative hypothesis.\n",
    "3. A small p-value suggests that the observed effect, difference, or relationship in the data is statistically significant.\n",
    "\n",
    "Large p-value (p > α):\n",
    "\n",
    "1. If the p-value is large, it suggests that the observed data is reasonably likely to have occurred under the null hypothesis.\n",
    "2. This does not provide strong evidence against the null hypothesis, and you generally do not have enough evidence to reject it.\n",
    "3. A large p-value suggests that the observed effect in the data is not statistically significant.\n",
    "\n",
    "\n",
    "\n",
    "\n",
    "\n"
   ]
  },
  {
   "cell_type": "markdown",
   "id": "17d99faf-5d30-43bd-a211-9d06820795d6",
   "metadata": {},
   "source": [
    "## Q9. Generate a Student's t-distribution plot using Python's matplotlib library, with the degrees of freedom parameter set to 10."
   ]
  },
  {
   "cell_type": "code",
   "execution_count": 3,
   "id": "ac849ed0-fea0-4967-bb16-9ec5a7480000",
   "metadata": {},
   "outputs": [
    {
     "data": {
      "image/png": "[encoded data removed]",
      "text/plain": [
       "<Figure size 500x500 with 1 Axes>"
      ]
     },
     "metadata": {},
     "output_type": "display_data"
    }
   ],
   "source": [
    "import numpy as np\n",
    "import matplotlib.pyplot as plt\n",
    "from scipy.stats import t\n",
    "\n",
    "x = np.linspace(-4,4,1000)\n",
    "df = 10\n",
    "\n",
    "pdf = t.pdf(x,df)\n",
    "\n",
    "plt.figure(figsize = (5,5))\n",
    "plt.plot(x,pdf,color = 'blue', label=f't-Distribution (df={df})')\n",
    "plt.title(f'Student\\'s t-Distribution (df={df})')\n",
    "plt.xlabel('X')\n",
    "plt.ylabel('Probability Density')\n",
    "plt.legend()\n",
    "plt.show()"
   ]
  },
  {
   "cell_type": "markdown",
   "id": "4f8bc249-d2bd-45b8-8ca2-56fd1eb9d291",
   "metadata": {},
   "source": [
    "## Q10. Write a Python program to calculate the two-sample t-test for independent samples, given two random samples of equal size and a null hypothesis that the population means are equal."
   ]
  },
  {
   "cell_type": "code",
   "execution_count": 4,
   "id": "5bdd2c18-71c6-42b0-9c85-24dfbeb4e683",
   "metadata": {},
   "outputs": [
    {
     "name": "stdout",
     "output_type": "stream",
     "text": [
      "The two sample t-test values are:\n",
      "t-Statistics: -0.6799185333058174\n",
      "p_value: 0.49663481384694463\n",
      "Fail to reject Null Hyporhesis\n"
     ]
    }
   ],
   "source": [
    "import numpy as np\n",
    "from scipy import stats\n",
    "\n",
    "# define sample size and significance level\n",
    "sample_size = 1000\n",
    "alpha = 0.05\n",
    "\n",
    "# Generate two independent samples of equal size\n",
    "sample1 = np.random.randn(1000) # Sample 1 (standard normal distribution)\n",
    "sample2 = np.random.randn(1000) # Sample 2 (standard normal distribution)\n",
    "\n",
    "# Set hypothesis\n",
    "# H0: Population mean of both population are equal\n",
    "# H1: Population mean of both population are not equal\n",
    "\n",
    "t_statistics, p_value = stats.ttest_ind(sample1,sample2)\n",
    "\n",
    "print('The two sample t-test values are:')\n",
    "print(f\"t-Statistics: {t_statistics}\")\n",
    "print(f\"p_value: {p_value}\")\n",
    "\n",
    "if p_value < alpha :\n",
    "    print('Reject the Null Hypothesis')\n",
    "    \n",
    "else:\n",
    "    print('Fail to reject Null Hyporhesis')"
   ]
  },
  {
   "cell_type": "markdown",
   "id": "e6ab7b7c-1c78-47ff-805e-5bc5246e8c47",
   "metadata": {},
   "source": [
    "## Q11: What is Student’s t distribution? When to use the t-Distribution."
   ]
  },
  {
   "cell_type": "markdown",
   "id": "45aecad8-4a1b-4dcd-a743-d1720a86e01c",
   "metadata": {},
   "source": [
    "\n",
    "Student's t-distribution, often referred to as the t-distribution, is a probability distribution that arises in statistical inference when dealing with small sample sizes and unknown population standard deviations. It is a family of distributions, and its shape depends on a parameter called degrees of freedom (df).\n",
    "\n",
    "The key characteristics of the t-distribution are as follows:\n",
    "\n",
    "    Symmetry: The t-distribution is symmetric about its mean, which is typically 0. As the degrees of freedom increase, the t-distribution approaches the standard normal distribution (bell-shaped and symmetric).\n",
    "\n",
    "    Wider Tails: Compared to the normal distribution, the t-distribution has heavier tails. This means that it assigns more probability to extreme values, making it more robust when dealing with outliers or when the sample size is small.\n",
    "\n",
    "    Shape: The shape of the t-distribution depends on the degrees of freedom. As the degrees of freedom increase, the t-distribution approaches the shape of the normal distribution.\n",
    "\n",
    "### When to use the t-distribution:\n",
    "\n",
    "    Small Sample Sizes: The t-distribution is particularly useful when working with small sample sizes (typically when n < 30). In such cases, it provides more accurate probability calculations compared to assuming a normal distribution.\n",
    "\n",
    "    Unknown Population Standard Deviation: When you don't know the population standard deviation (σ) and need to make inferences about the population mean (μ) based on a sample mean (x̄), the t-distribution should be used instead of the normal distribution.\n",
    "\n",
    "    Confidence Intervals: When constructing confidence intervals for the population mean, the t-distribution is used to account for the uncertainty due to the estimation of the population standard deviation.\n",
    "\n",
    "    Hypothesis Testing: When performing hypothesis tests involving the population mean (e.g., one-sample or two-sample t-tests), the t-distribution is used to calculate test statistics and p-values.\n",
    "\n",
    "    Quality Control: In industries such as manufacturing, the t-distribution is used in control charts when dealing with small sample sizes and the need to monitor processes for quality.\n",
    "\n",
    "In summary, we should use the t-distribution in situations where the sample size is small, the population standard deviation is unknown, and we are making inferences about population means or constructing confidence intervals. As the sample size increases, the t-distribution approaches the normal distribution, and there is less need to use it."
   ]
  },
  {
   "cell_type": "markdown",
   "id": "9b5f10fd-dc89-4c49-a584-128250c2f526",
   "metadata": {},
   "source": [
    "## Q12: What is t-statistic? State the formula for t-statistic."
   ]
  },
  {
   "cell_type": "markdown",
   "id": "a37af748-693a-44ad-a13f-4a782cfb9538",
   "metadata": {},
   "source": [
    "The t-statistic (also known as the t-value) is a statistical measure used in hypothesis testing, specifically in the context of comparing sample means to population means or comparing means between two groups. It quantifies how many standard errors the sample mean is away from the hypothesized population mean or the mean of another sample. The t-statistic is used in conjunction with the t-distribution to assess the statistical significance of the difference between sample means.\n",
    "\n",
    "The formula for the t-statistic depends on the specific hypothesis test you are performing. Here are the formulas for some common cases:\n",
    "\n",
    "### One-Sample T-Test:\n",
    "\n",
    "When you want to test if a sample mean is significantly different from a hypothesized population mean (μ) and you don't know the population standard deviation (σ), you use a one-sample t-test. The formula for the t-statistic in this case is:\n",
    "\n",
    "### $t=\\frac{ \\bar{x}-\\mu}{\\frac{s}{\\sqrt{n}}}$\n",
    "\n",
    "Where:\n",
    "##### t is the t-statistic.\n",
    "##### x is the sample mean.\n",
    "##### μ is the hypothesized population mean.\n",
    "##### s is the sample standard deviation.\n",
    "##### n is the sample size.\n",
    "\n",
    "### Two-Sample T-Test (Independent Samples):\n",
    "\n",
    "When you want to compare the means of two independent samples to determine if they are significantly different, you use a two-sample t-test. The formula for the t-statistic in this case is:\n",
    "\n",
    "### $t = \\frac{\\bar{x1}-\\bar{x2}}{\\sqrt{\\frac{s1^2}{n1}+\\frac{s2^2}{n2}}}$\n",
    "\n",
    "\n",
    "Where:\n",
    "\n",
    "##### t is the t-statistic.\n",
    "##### $\\bar{x1}$ and $\\bar{x2}$ are the sample means of the two groups.\n",
    "##### s1 and s2 are the sample standard deviations of the two groups.\n",
    "##### n1 and n2 are the sample sizes of the two groups."
   ]
  },
  {
   "cell_type": "markdown",
   "id": "176f0200-1537-4e62-a6ff-d6c46e7cad97",
   "metadata": {},
   "source": [
    "## Q13. A coffee shop owner wants to estimate the average daily revenue for their shop. They take a random sample of 50 days and find the sample mean revenue to be 500  with  a  standard deviation of 50. Estimate the population mean revenue with a 95% confidence interval."
   ]
  },
  {
   "cell_type": "code",
   "execution_count": 5,
   "id": "2b1ba018-0052-417a-b90b-f1a63f0dd559",
   "metadata": {},
   "outputs": [
    {
     "name": "stdout",
     "output_type": "stream",
     "text": [
      "Estimated Population Mean with 95% confidence is: (486.1409617565032, 513.8590382434968)\n"
     ]
    }
   ],
   "source": [
    "import numpy as np\n",
    "import scipy.stats as stat\n",
    "\n",
    "sample_size = 50\n",
    "sample_mean = 500\n",
    "std = 50\n",
    "confidence_interval = 0.95\n",
    "significance_level = 1 - confidence_interval\n",
    "standard_error = std/np.sqrt(sample_size)\n",
    "\n",
    "# z_score\n",
    "z_score = stat.norm.ppf(1-significance_level/2)\n",
    "\n",
    "margin_of_error = z_score*standard_error\n",
    "# confidance_interval = sample_mean +(-) (z)*(standard_deviation/(sample_size)**0.5\n",
    "\n",
    "upper_limit = sample_mean + margin_of_error\n",
    "lower_limit = sample_mean - margin_of_error\n",
    "\n",
    "print('Estimated Population Mean with 95% confidence is:', (lower_limit, upper_limit))"
   ]
  },
  {
   "cell_type": "markdown",
   "id": "c6e1aa8e-fa15-4430-951f-48f52791a396",
   "metadata": {},
   "source": [
    "## Q14. A researcher hypothesizes that a new drug will decrease blood pressure by 10 mmHg. They conduct a clinical trial with 100 patients and find that the sample mean decrease in blood pressure is 8 mmHg with a standard deviation of 3 mmHg. Test the hypothesis with a significance level of 0.05."
   ]
  },
  {
   "cell_type": "code",
   "execution_count": 6,
   "id": "92780250-94c4-48cf-b81f-4078da31a356",
   "metadata": {},
   "outputs": [
    {
     "name": "stdout",
     "output_type": "stream",
     "text": [
      "Sample mean: 8\n",
      "Sample Size: 100\n",
      "Hypothetical Mean: 10\n",
      "t Statistics -6.666666666666667\n",
      "Critical t-value: 1.6603911559963895\n",
      "Reject Null Hypothesis\n"
     ]
    }
   ],
   "source": [
    "import numpy as np\n",
    "from scipy import stats\n",
    "\n",
    "sample_size = 100\n",
    "hypothesis_mean_reduction = 10\n",
    "sample_mean_reduction = 8\n",
    "std = 3\n",
    "significance_level = 0.05\n",
    "degree_of_freedom = sample_size - 1\n",
    "\n",
    "# H0: mean reduction in pressure is 10mmHg\n",
    "# H1: mean reduction in pressure is less than 10mmHg\n",
    "\n",
    "t_value = (sample_mean_reduction - hypothesis_mean_reduction)/(std/np.sqrt(sample_size))\n",
    "critical_value = stats.t.ppf(1-significance_level, degree_of_freedom)\n",
    "\n",
    "print(f\"Sample mean: {sample_mean_reduction}\")\n",
    "print(f\"Sample Size: {sample_size}\")\n",
    "print(f\"Hypothetical Mean: {hypothesis_mean_reduction}\")\n",
    "print(f\"t Statistics {t_value}\")\n",
    "print(f\"Critical t-value: {critical_value}\")\n",
    "      \n",
    "if t_value < critical_value:\n",
    "    print('Reject Null Hypothesis')\n",
    "    \n",
    "else:\n",
    "    print('Fail to reject null hypothesis')"
   ]
  },
  {
   "cell_type": "markdown",
   "id": "376b0bff-c3a1-4fa4-96d7-fd2d2a6191b0",
   "metadata": {},
   "source": [
    "## Q15. An electronics company produces a certain type of product with a mean weight of 5 pounds and a standard deviation of 0.5 pounds. A random sample of 25 products is taken, and the sample mean weight is found to be 4.8 pounds. Test the hypothesis that the true mean weight of the products is less than 5 pounds with a significance level of 0.01."
   ]
  },
  {
   "cell_type": "code",
   "execution_count": 8,
   "id": "20795fa1-814c-4d23-a4dc-2aa7fcda8cf2",
   "metadata": {},
   "outputs": [
    {
     "name": "stdout",
     "output_type": "stream",
     "text": [
      "t-statistical value: -2.0000000000000018\n",
      "Critical Value: -2.4921594731575762\n",
      "Fail to reject Null Hypothesis\n"
     ]
    }
   ],
   "source": [
    "import numpy as np\n",
    "from scipy.stats import stats\n",
    "\n",
    "pop_mean = 5\n",
    "std = 0.5\n",
    "sample_size = 25\n",
    "sample_mean = 4.8\n",
    "significance_level = 0.01\n",
    "degree_of_freedom = sample_size - 1\n",
    "\n",
    "# H0:Mean weight is 5 pounds\n",
    "# H1:Mean weight is not equal to 5 pounds\n",
    "\n",
    "t_value = (sample_mean - pop_mean) / (std/np.sqrt(sample_size))\n",
    "critical_value = stat.t.ppf(significance_level, degree_of_freedom)\n",
    "\n",
    "print(f\"t-statistical value: {t_value}\")\n",
    "print(f\"Critical Value: {critical_value}\")\n",
    "\n",
    "if t_value < critical_value:\n",
    "    print('Reject Null Hypothesis')\n",
    "    \n",
    "else:\n",
    "    print('Fail to reject Null Hypothesis')"
   ]
  },
  {
   "cell_type": "markdown",
   "id": "d475295a-12a1-4cd3-b494-b7149207dddd",
   "metadata": {},
   "source": [
    "### Q16. Two groups of students are given different study materials to prepare for a test. The first group (n1 = 30) has a mean score of 80 with a standard deviation of 10, and the second group (n2 = 40) has a mean score of 75 with a standard deviation of 8. Test the hypothesis that the population means for the two groups are equal with a significance level of 0.01."
   ]
  },
  {
   "cell_type": "code",
   "execution_count": 9,
   "id": "17f0c4de-a0c9-4a62-9571-02075f92c3e7",
   "metadata": {},
   "outputs": [
    {
     "name": "stdout",
     "output_type": "stream",
     "text": [
      "f-statistical value: 1.5625\n",
      "Critical Value: 2.2435431769881173\n",
      "Fail to reject Null Hypothesis\n"
     ]
    }
   ],
   "source": [
    "import numpy as np\n",
    "import scipy.stats as stat\n",
    "\n",
    "# given parameters\n",
    "n1 = 30\n",
    "n1_mean = 80\n",
    "s1 = 10\n",
    "var1 = s1**2\n",
    "\n",
    "n2 = 40\n",
    "n2_mean = 75\n",
    "s2 = 8\n",
    "var2 = s2**2\n",
    "\n",
    "significance_value = 0.01\n",
    "confidence = 1- significance_value\n",
    "\n",
    "# set hypothesis\n",
    "# H0: means of two groups are equal\n",
    "# H1: means of both group are not equal\n",
    "\n",
    "# critical value and signficance value\n",
    "f_value = var1/var2\n",
    "dof1 = n1-1\n",
    "dof2 = n2-2\n",
    "\n",
    "critical_value = stat.f.ppf(q= confidence, dfn = dof1, dfd = dof2)\n",
    "\n",
    "print(f\"f-statistical value: {f_value}\")\n",
    "print(f\"Critical Value: {critical_value}\")\n",
    "\n",
    "if f_value > critical_value:\n",
    "    print('Reject Null Hypothesis')\n",
    "    \n",
    "else:\n",
    "    print('Fail to reject Null Hypothesis')"
   ]
  },
  {
   "cell_type": "markdown",
   "id": "45414645-b3a3-4840-8f02-33a9f76c9ca8",
   "metadata": {},
   "source": [
    "### Q17. A marketing company wants to estimate the average number of ads watched by viewers during a TV program. They take a random sample of 50 viewers and find that the sample mean is 4 with a standard deviation of 1.5. Estimate the population mean with a 99% confidence interval."
   ]
  },
  {
   "cell_type": "code",
   "execution_count": 10,
   "id": "20acb345-87b7-4213-a2fa-8f492deb39a3",
   "metadata": {},
   "outputs": [
    {
     "name": "stdout",
     "output_type": "stream",
     "text": [
      "Confidence Interval: (3.4536, 4.5464)\n"
     ]
    }
   ],
   "source": [
    "import numpy as np\n",
    "import scipy.stats as stat\n",
    "\n",
    "sample_size = 50\n",
    "sample_mean = 4\n",
    "sample_std = 1.5\n",
    "confidence = 0.99\n",
    "alpha=1-confidence\n",
    "standard_error = sample_std/np.sqrt(sample_size)\n",
    "\n",
    "z_score = stat.norm.ppf(1-(alpha)/2)\n",
    "\n",
    "margin_of_error = z_score * standard_error\n",
    "\n",
    "lower_limit = sample_mean - margin_of_error\n",
    "upper_limit =  sample_mean + margin_of_error\n",
    "\n",
    "print(f\"Confidence Interval: ({lower_limit:.4f}, {upper_limit:.4f})\")"
   ]
  }
 ],
 "metadata": {
  "kernelspec": {
   "display_name": "Python 3 (ipykernel)",
   "language": "python",
   "name": "python3"
  },
  "language_info": {
   "codemirror_mode": {
    "name": "ipython",
    "version": 3
   },
   "file_extension": ".py",
   "mimetype": "text/x-python",
   "name": "python",
   "nbconvert_exporter": "python",
   "pygments_lexer": "ipython3",
   "version": "3.10.8"
  }
 },
 "nbformat": 4,
 "nbformat_minor": 5
}
